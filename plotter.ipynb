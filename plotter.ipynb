{
 "cells": [
  {
   "cell_type": "code",
   "execution_count": null,
   "metadata": {},
   "outputs": [],
   "source": [
    "pip install folium"
   ]
  },
  {
   "cell_type": "code",
   "execution_count": null,
   "metadata": {},
   "outputs": [],
   "source": [
    "import folium\n",
    "import pandas as pd\n",
    "\n",
    "data = pd.read_csv('C:/Users/MSI/Desktop/detectors2018.csv')\n",
    "latitude = data.iloc[:, 5].astype(str).apply(lambda x: float(x[:2] + '.' + x[2:]))\n",
    "longitude = data.iloc[:, 6].astype(str).apply(lambda x: float(x[:4] + '.' + x[4:]))\n",
    "ids = data.iloc[:, 1]\n",
    "\n",
    "map = folium.Map(location=[latitude.mean(), longitude.mean()], zoom_start=10)\n",
    "\n",
    "for lat, lon, id in zip(latitude, longitude, ids):\n",
    "    folium.CircleMarker(location=[lat, lon], radius=5, color='blue', fill=True, fill_color='blue',\n",
    "                        tooltip=id).add_to(map)\n",
    "\n",
    "map"
   ]
  },
  {
   "cell_type": "code",
   "execution_count": 36,
   "metadata": {},
   "outputs": [],
   "source": [
    "map.save('C:/Users/MSI/Desktop/NDEX_2018_map.html')"
   ]
  },
  {
   "cell_type": "code",
   "execution_count": null,
   "metadata": {},
   "outputs": [],
   "source": [
    "pip install geopy"
   ]
  },
  {
   "cell_type": "code",
   "execution_count": 39,
   "metadata": {},
   "outputs": [
    {
     "name": "stdout",
     "output_type": "stream",
     "text": [
      "[[0. 0. 0. ... 1. 1. 1.]\n",
      " [0. 0. 0. ... 1. 1. 1.]\n",
      " [0. 0. 0. ... 1. 1. 1.]\n",
      " ...\n",
      " [1. 1. 1. ... 0. 0. 0.]\n",
      " [1. 1. 1. ... 0. 0. 0.]\n",
      " [1. 1. 1. ... 0. 0. 0.]]\n"
     ]
    }
   ],
   "source": [
    "import pandas as pd\n",
    "from geopy.distance import great_circle\n",
    "import numpy as np\n",
    "\n",
    "data = pd.read_csv('C:/Users/MSI/Desktop/detectors2018.csv')\n",
    "\n",
    "latitude = data.iloc[:, 5].astype(str).apply(lambda x: float(x[:2] + '.' + x[2:]))\n",
    "longitude = data.iloc[:, 6].astype(str).apply(lambda x: float(x[:4] + '.' + x[4:]))\n",
    "ids = data.iloc[:, 1]\n",
    "\n",
    "num_nodes = len(latitude)\n",
    "adj_matrix = np.zeros((num_nodes, num_nodes))\n",
    "\n",
    "min_distance = 0.1  \n",
    "max_distance = 10.0  \n",
    "\n",
    "for i in range(num_nodes):\n",
    "    for j in range(i + 1, num_nodes):\n",
    "       \n",
    "        loc1 = (latitude.iloc[i], longitude.iloc[i])\n",
    "        loc2 = (latitude.iloc[j], longitude.iloc[j])\n",
    "        distance = great_circle(loc1, loc2).kilometers\n",
    "\n",
    "        # Check if distance is within the specified range\n",
    "        if distance >= min_distance and distance <= max_distance:\n",
    "            # Add edge to adjacency matrix\n",
    "            adj_matrix[i, j] = 1\n",
    "            adj_matrix[j, i] = 1\n",
    "\n",
    "# Print adjacency matrix\n",
    "print(adj_matrix)\n"
   ]
  }
 ],
 "metadata": {
  "kernelspec": {
   "display_name": "Python 3",
   "language": "python",
   "name": "python3"
  },
  "language_info": {
   "codemirror_mode": {
    "name": "ipython",
    "version": 3
   },
   "file_extension": ".py",
   "mimetype": "text/x-python",
   "name": "python",
   "nbconvert_exporter": "python",
   "pygments_lexer": "ipython3",
   "version": "3.11.0"
  },
  "orig_nbformat": 4
 },
 "nbformat": 4,
 "nbformat_minor": 2
}
