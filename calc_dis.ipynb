{
 "cells": [
  {
   "cell_type": "code",
   "execution_count": 6,
   "metadata": {},
   "outputs": [],
   "source": [
    "# function to measure distance between two points\n",
    "\n",
    "import math\n",
    "\n",
    "def distance(lat1, lon1, lat2, lon2):\n",
    "    R = 6371  # Radius of the Earth in kilometers\n",
    "    phi1 = math.radians(lat1)\n",
    "    phi2 = math.radians(lat2)\n",
    "    delta_phi = math.radians(lat2 - lat1)\n",
    "    delta_lambda = math.radians(lon2 - lon1)\n",
    "    \n",
    "    a = math.sin(delta_phi / 2)**2 + math.cos(phi1) * math.cos(phi2) * math.sin(delta_lambda / 2)**2\n",
    "    c = 2 * math.atan2(math.sqrt(a), math.sqrt(1 - a))\n",
    "    \n",
    "    distance = R * c  # Distance in kilometers\n",
    "    \n",
    "    return distance"
   ]
  },
  {
   "cell_type": "code",
   "execution_count": 7,
   "metadata": {},
   "outputs": [
    {
     "name": "stdout",
     "output_type": "stream",
     "text": [
      "The distance between the two points is 914.28 km.\n"
     ]
    }
   ],
   "source": [
    "# Example usage\n",
    "lat1 = 52.5200\n",
    "lon1 = 13.4050\n",
    "lat2 = 51.5074\n",
    "lon2 = 0.1278\n",
    "\n",
    "d = distance(lat1, lon1, lat2, lon2)\n",
    "print(f\"The distance between the two points is {d:.2f} km.\")"
   ]
  },
  {
   "cell_type": "code",
   "execution_count": null,
   "metadata": {},
   "outputs": [],
   "source": [
    "# reading csv files to get the template and detector positions and making a new adj list\n",
    "\n",
    "#opening the previous adj list file to be used as an template\n",
    "import csv\n",
    "with open('file.csv', newline='') as csvfile:\n",
    "    # Create a CSV reader object\n",
    "    reader = csv.reader(csvfile)\n",
    "    \n",
    "    # Loop through each row of the CSV file\n",
    "    for row in reader:\n",
    "        # Access column 1 and column 2\n",
    "        column1 = row[0]\n",
    "        column2 = row[1]\n",
    "        \n",
    "        # Print the values of column 1 and column 2\n",
    "        print(f\"{column1}, {column2}\")\n",
    "\n",
    "\n"
   ]
  }
 ],
 "metadata": {
  "kernelspec": {
   "display_name": "Python 3",
   "language": "python",
   "name": "python3"
  },
  "language_info": {
   "codemirror_mode": {
    "name": "ipython",
    "version": 3
   },
   "file_extension": ".py",
   "mimetype": "text/x-python",
   "name": "python",
   "nbconvert_exporter": "python",
   "pygments_lexer": "ipython3",
   "version": "3.11.0"
  },
  "orig_nbformat": 4
 },
 "nbformat": 4,
 "nbformat_minor": 2
}
