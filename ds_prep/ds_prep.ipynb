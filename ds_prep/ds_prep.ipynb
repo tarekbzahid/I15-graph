{
 "cells": [
  {
   "cell_type": "code",
   "execution_count": 17,
   "metadata": {},
   "outputs": [],
   "source": [
    "import csv\n",
    "\n",
    "def transpose_column(csv_file, column_index, rows_to_transpose, output_file):\n",
    "    # Read the CSV file\n",
    "    with open(csv_file, 'r') as file:\n",
    "        reader = csv.reader(file)\n",
    "        rows = list(reader)\n",
    "\n",
    "    # Transpose the specified column\n",
    "    transposed_values = []\n",
    "    row_count = len(rows)\n",
    "    for i in range(1, row_count, rows_to_transpose):\n",
    "        transposed_row = []\n",
    "        for j in range(i, min(i + rows_to_transpose, row_count)):\n",
    "            transposed_row.append(rows[j][column_index])\n",
    "        transposed_values.append(transposed_row)\n",
    "\n",
    "    # Save the transposed values as a new CSV file\n",
    "    with open(output_file, 'w', newline='') as file:\n",
    "        writer = csv.writer(file)\n",
    "        writer.writerows(transposed_values)\n",
    "\n",
    "\n",
    "# Calling function:\n",
    "csv_file = '../datasets_from_Dyoup/US95SB5MinutesComplete.csv'\n",
    "column_index = 4  # Index of the column to transpose (0-based index)\n",
    "rows_to_transpose = 10  # Number of rows to transpose\n",
    "output_file = '../ds_prep/US95SB5MinutesComplete_speed.csv'  # Specify the desired output file path\n",
    "\n",
    "transpose_rows(csv_file, column_index, rows_to_transpose, output_file)"
   ]
  },
  {
   "cell_type": "code",
   "execution_count": 25,
   "metadata": {},
   "outputs": [
    {
     "name": "stdout",
     "output_type": "stream",
     "text": [
      "Graph saved as adjacency.\n"
     ]
    }
   ],
   "source": [
    "# Creating Adjacency List\n",
    "\n",
    "def generate_graph(n):\n",
    "    if n < 2:\n",
    "        print(\"Minimum of two nodes required.\")\n",
    "        return\n",
    "\n",
    "    graph = []\n",
    "\n",
    "    for i in range(1, n + 1):\n",
    "        row = []\n",
    "        for j in range(1, n + 1):\n",
    "            if i == j or i == j + 1 or i == j - 1:\n",
    "                row.append(1)\n",
    "            else:\n",
    "                row.append(0)\n",
    "        graph.append(row)\n",
    "\n",
    "    return graph\n",
    "\n",
    "# Calling Function:\n",
    "num_nodes = int(input(\"Enter the number of nodes: \"))\n",
    "graph = generate_graph(num_nodes)\n",
    "\n",
    "## Print the graph in the desired format\n",
    "#for i in range(num_nodes):\n",
    "    #for j in range(num_nodes):\n",
    "        #print(f\"{i+1}\\t{j+1}\\t{graph[i][j]}\")\n",
    "\n",
    "\n",
    "# Save the graph as a CSV file\n",
    "filename = input(\"Enter the filename to save the graph (e.g., graph.csv): \")\n",
    "with open(filename, 'w', newline='') as file:\n",
    "    writer = csv.writer(file, delimiter='\\t')\n",
    "    for i in range(num_nodes):\n",
    "        for j in range(num_nodes):\n",
    "            writer.writerow([i + 1, j + 1, graph[i][j]])\n",
    "\n",
    "print(f\"Graph saved as {filename}.\")\n"
   ]
  }
 ],
 "metadata": {
  "kernelspec": {
   "display_name": "Python 3",
   "language": "python",
   "name": "python3"
  },
  "language_info": {
   "codemirror_mode": {
    "name": "ipython",
    "version": 3
   },
   "file_extension": ".py",
   "mimetype": "text/x-python",
   "name": "python",
   "nbconvert_exporter": "python",
   "pygments_lexer": "ipython3",
   "version": "3.11.0"
  },
  "orig_nbformat": 4
 },
 "nbformat": 4,
 "nbformat_minor": 2
}
