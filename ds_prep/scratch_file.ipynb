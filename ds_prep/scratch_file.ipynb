{
 "cells": [
  {
   "cell_type": "code",
   "execution_count": 3,
   "metadata": {},
   "outputs": [
    {
     "name": "stdout",
     "output_type": "stream",
     "text": [
      "Input sequences (x):\n",
      " tensor([[[1., 2., 3.],\n",
      "         [4., 5., 6.]]])\n",
      "Output sequences (y):\n",
      " tensor([[[ 7.,  8.,  9.],\n",
      "         [10., 11., 12.]]])\n"
     ]
    }
   ],
   "source": [
    "import torch\n",
    "\n",
    "def seq2instance(data, num_his, num_pred):\n",
    "    num_step, dims = data.shape\n",
    "    num_sample = num_step - num_his - num_pred + 1\n",
    "    x = torch.zeros(num_sample, num_his, dims)\n",
    "    y = torch.zeros(num_sample, num_pred, dims)\n",
    "    for i in range(num_sample):\n",
    "        x[i] = data[i: i + num_his]\n",
    "        y[i] = data[i + num_his: i + num_his + num_pred]\n",
    "    return x, y\n",
    "\n",
    "# Example usage\n",
    "data = torch.tensor([[1, 2, 3],\n",
    "                     [4, 5, 6],\n",
    "                     [7, 8, 9],\n",
    "                     [10, 11, 12]])\n",
    "\n",
    "num_his = 2\n",
    "num_pred = 2\n",
    "\n",
    "x, y = seq2instance(data, num_his, num_pred)\n",
    "print(\"Input sequences (x):\\n\", x)\n",
    "print(\"Output sequences (y):\\n\", y)\n"
   ]
  }
 ],
 "metadata": {
  "kernelspec": {
   "display_name": "Python 3",
   "language": "python",
   "name": "python3"
  },
  "language_info": {
   "codemirror_mode": {
    "name": "ipython",
    "version": 3
   },
   "file_extension": ".py",
   "mimetype": "text/x-python",
   "name": "python",
   "nbconvert_exporter": "python",
   "pygments_lexer": "ipython3",
   "version": "3.11.0"
  },
  "orig_nbformat": 4
 },
 "nbformat": 4,
 "nbformat_minor": 2
}
