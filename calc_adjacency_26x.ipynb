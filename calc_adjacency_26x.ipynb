{
 "cells": [
  {
   "attachments": {},
   "cell_type": "markdown",
   "metadata": {},
   "source": [
    "# this code is for the 26 sensors in the I15 which has been originally used to testing accuracy"
   ]
  },
  {
   "attachments": {},
   "cell_type": "markdown",
   "metadata": {},
   "source": [
    "RAW DISTANCE AS WEIGHT:"
   ]
  },
  {
   "cell_type": "code",
   "execution_count": null,
   "metadata": {},
   "outputs": [],
   "source": [
    "# creating adj list with raw distance as weight\n",
    "# Open the input and output files\n",
    "import csv\n",
    "from func_calc_distance import distance\n",
    "\n",
    "with open(\"adj-26/adj_list_las26_template.txt\", \"r\") as f_in, open(\"adj-26/adj_list_las26_v3_raw_weight.txt\", \"w\") as f_out:\n",
    "    for line in f_in:\n",
    "        columns = line.strip().split(\"\\t\")\n",
    "        sensorA = columns[0]\n",
    "        sensorB = columns[1]  \n",
    "\n",
    "        # Open the CSV file and search for matching rows\n",
    "        with open(\"adj-26/pred_sensor_list.csv\", \"r\") as g:\n",
    "            # Reader = Open CSV\n",
    "            reader = csv.reader(g)\n",
    "            header = next(reader)        \n",
    "            \n",
    "            for row in reader:\n",
    "                if row[0] == sensorA:\n",
    "                    latA = float(row[2])\n",
    "                    lonA = float(row[3])\n",
    "                if row[0] == sensorB:\n",
    "                    latB = float(row[2])\n",
    "                    lonB = float(row[3])\n",
    "            \n",
    "            dis = distance(latA, lonA, latB, lonB)   \n",
    "            print(f\"Distance between {sensorA} and {sensorB}: {dis} km\")\n",
    "            \n",
    "            # Write the line with the distance to the output file\n",
    "            f_out.write(line.strip() + f\"\\t{dis}\\n\")\n"
   ]
  },
  {
   "cell_type": "markdown",
   "metadata": {},
   "source": [
    "NORMALIZED DISTANCE AS WEIGHT:"
   ]
  },
  {
   "cell_type": "code",
   "execution_count": 38,
   "metadata": {},
   "outputs": [
    {
     "name": "stdout",
     "output_type": "stream",
     "text": [
      "Adj list with normalized weights saved!\n"
     ]
    }
   ],
   "source": [
    "# creating adj list with normalized distances\n",
    "# calculate min and max distances\n",
    "min_distance = float('inf')\n",
    "max_distance = float('-inf')\n",
    "\n",
    "with open(\"adj-26/adj_list_las26_v3_raw_weight.txt\", \"r\") as f:\n",
    "    for line in f:\n",
    "        # extract sensor IDs and distances\n",
    "        columns = line.strip().split(\"\\t\")\n",
    "        sensorA = columns[0]\n",
    "        sensorB = columns[1]\n",
    "        distance = float(columns[2])\n",
    "        \n",
    "        # update min and max distances\n",
    "        if distance < min_distance:\n",
    "            min_distance = distance\n",
    "        if distance > max_distance:\n",
    "            max_distance = distance\n",
    "            \n",
    "# normalize distances and write to output file\n",
    "with open(\"adj-26/adj_list_las26_v3_normalized.txt\", \"w\") as f_out:\n",
    "    with open(\"adj-26/adj_list_las26_v3_raw_weight.txt\", \"r\") as f:\n",
    "        for line in f:\n",
    "            # extract sensor IDs and distances\n",
    "            columns = line.strip().split(\"\\t\")\n",
    "            sensorA = columns[0]\n",
    "            sensorB = columns[1]\n",
    "            distance = float(columns[2])\n",
    "            \n",
    "            # check for 0 distance and set to 1\n",
    "            if distance == 0:\n",
    "                distance = 1\n",
    "                \n",
    "            # normalize distance\n",
    "            normalized_distance = (distance - min_distance) / (max_distance - min_distance)\n",
    "            \n",
    "            # write line with normalized distance to output file\n",
    "            f_out.write(f\"{sensorA}\\t{sensorB}\\t{normalized_distance}\\n\")\n",
    "        print(\"Adj list with normalized weights saved!\")\n"
   ]
  },
  {
   "cell_type": "code",
   "execution_count": 36,
   "metadata": {},
   "outputs": [
    {
     "name": "stdout",
     "output_type": "stream",
     "text": [
      "Adj list with inverse normalized weights saved!\n"
     ]
    }
   ],
   "source": [
    "# saving adj list with inverse normalized distances\n",
    "# calculate min and max distances\n",
    "min_distance = float('inf')\n",
    "max_distance = float('-inf')\n",
    "\n",
    "with open(\"adj-26/adj_list_las26_v3_raw_weight.txt\", \"r\") as f:\n",
    "    for line in f:\n",
    "        # extract sensor IDs and distances\n",
    "        columns = line.strip().split(\"\\t\")\n",
    "        sensorA = columns[0]\n",
    "        sensorB = columns[1]\n",
    "        distance = float(columns[2])\n",
    "        \n",
    "        # update min and max distances\n",
    "        if distance < min_distance:\n",
    "            min_distance = distance\n",
    "        if distance > max_distance:\n",
    "            max_distance = distance\n",
    "\n",
    "# inverse normalize distances and write to output file\n",
    "with open(\"adj-26/adj_list_las28_v3_inverse_normalized.txt\", \"w\") as f_out:\n",
    "    with open(\"adj-26/adj_list_las26_v3_raw_weight.txt\", \"r\") as f:\n",
    "        for line in f:\n",
    "            # extract sensor IDs and distances\n",
    "            columns = line.strip().split(\"\\t\")\n",
    "            sensorA = columns[0]\n",
    "            sensorB = columns[1]\n",
    "            distance = float(columns[2])\n",
    "            \n",
    "            # check for 0 distance and set to 1\n",
    "            if distance == 0:\n",
    "                distance = 1\n",
    "                \n",
    "            # inverse normalize distance\n",
    "            inverse_normalized_distance = (max_distance - distance) / (max_distance - min_distance)\n",
    "            \n",
    "            # write line with inverse normalized distance to output file\n",
    "            f_out.write(f\"{sensorA}\\t{sensorB}\\t{inverse_normalized_distance}\\n\")\n",
    "        print(\"Adj list with inverse normalized weights saved!\")"
   ]
  },
  {
   "cell_type": "code",
   "execution_count": null,
   "metadata": {},
   "outputs": [],
   "source": [
    "# saving adj list with Gaussian normalized distances\n",
    "# calculate min and max distances\n",
    "min_distance = float('inf')\n",
    "max_distance = float('-inf')\n",
    "\n",
    "with open(\"adj-26/adj_list_las26_v3_raw_weight.txt\", \"r\") as f:\n",
    "    for line in f:\n",
    "        # extract sensor IDs and distances\n",
    "        columns = line.strip().split(\"\\t\")\n",
    "        sensorA = columns[0]\n",
    "        sensorB = columns[1]\n",
    "        distance = float(columns[2])\n",
    "        \n",
    "        # update min and max distances\n",
    "        if distance < min_distance:\n",
    "            min_distance = distance\n",
    "        if distance > max_distance:\n",
    "            max_distance = distance\n",
    "\n",
    "# inverse normalize distances and write to output file\n",
    "with open(\"adj-26/adj_list_las28_v3_inverse_normalized.txt\", \"w\") as f_out:\n",
    "    with open(\"adj-26/adj_list_las26_v3_raw_weight.txt\", \"r\") as f:\n",
    "        for line in f:\n",
    "            # extract sensor IDs and distances\n",
    "            columns = line.strip().split(\"\\t\")\n",
    "            sensorA = columns[0]\n",
    "            sensorB = columns[1]\n",
    "            distance = float(columns[2])\n",
    "            \n",
    "            # check for 0 distance and set to 1\n",
    "            if distance == 0:\n",
    "                distance = 1\n",
    "                \n",
    "            # inverse normalize distance\n",
    "            inverse_normalized_distance = (max_distance - distance) / (max_distance - min_distance)\n",
    "            \n",
    "            # write line with inverse normalized distance to output file\n",
    "            f_out.write(f\"{sensorA}\\t{sensorB}\\t{inverse_normalized_distance}\\n\")\n",
    "        print(\"Adj list with inverse normalized weights saved!\")"
   ]
  }
 ],
 "metadata": {
  "kernelspec": {
   "display_name": "Python 3",
   "language": "python",
   "name": "python3"
  },
  "language_info": {
   "codemirror_mode": {
    "name": "ipython",
    "version": 3
   },
   "file_extension": ".py",
   "mimetype": "text/x-python",
   "name": "python",
   "nbconvert_exporter": "python",
   "pygments_lexer": "ipython3",
   "version": "3.11.0"
  },
  "orig_nbformat": 4
 },
 "nbformat": 4,
 "nbformat_minor": 2
}
